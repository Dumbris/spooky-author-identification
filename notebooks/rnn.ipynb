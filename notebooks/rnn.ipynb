{
 "cells": [
  {
   "cell_type": "markdown",
   "metadata": {
    "_cell_guid": "307a5e01-3796-47f8-b9a5-8471e5035aef",
    "_uuid": "432bc27ee4c8d6c08f15d5bd0d230f2031468e9a"
   },
   "source": [
    "http://www.learnnc.org/lp/editions/few/684\n",
    "\n",
    "*A writer’s style* is what sets his or her writing apart and makes it unique. Style is the way writing is dressed up (or down) to fit the specific context, purpose, or audience. Word choice, sentence fluency, and the writer’s voice — all contribute to the style of a piece of writing.\n",
    "\n",
    "**Elements of style**\n",
    "\n",
    "Many elements of writing contribute to an author’s style, but three of the most important are ***word choice***, sentence fluency, and voice.\n",
    "\n",
    "Good writers are concise and precise, weeding out unnecessary words and choosing the exact word to convey meaning. Precise words — active verbs, concrete nouns, specific adjectives — help the reader visualize the sentence. **Good writers use adjectives sparingly and adverbs rarely, letting their nouns and verbs do the work.**\n",
    "\n",
    "Good writers also choose words that contribute to the flow of a sentence. Polysyllabic words, alliteration, and consonance can be used to create sentences that roll off the tongue. Onomatopoeia and short, staccato words can be used to break up the rhythm of a sentence. "
   ]
  },
  {
   "cell_type": "markdown",
   "metadata": {
    "_cell_guid": "4ce8eace-546a-49a6-aa26-31700d0c7e9a",
    "_uuid": "3470d6a7e7deef262e4d54bd781c8aa86ed176b1"
   },
   "source": [
    "My idea is to extract meaningful words - adjectives, nouns and verbs- that describe each writer style. "
   ]
  },
  {
   "cell_type": "code",
   "execution_count": 3,
   "metadata": {
    "_cell_guid": "eb437c77-c608-4e5b-9082-9e822f8df6e7",
    "_uuid": "858ed1f8824977c150a88d898b27c291027931ff"
   },
   "outputs": [],
   "source": [
    "import numpy as np # linear algebra\n",
    "import pandas as pd # data processing, CSV file I/O (e.g. pd.read_csv)\n",
    "import re # regular expressions\n",
    "from collections import Counter # for counting\n",
    "# spacy\n",
    "import spacy\n",
    "from spacy.parts_of_speech import ADV,ADJ,VERB\n",
    "from spacy.symbols import nsubj,ORTH,LEMMA, POS,PERSON\n",
    "from pathlib import Path\n"
   ]
  },
  {
   "cell_type": "code",
   "execution_count": 7,
   "metadata": {
    "_cell_guid": "ba3fd402-ae77-447b-b46e-16ddfe148a09",
    "_uuid": "591a9c1841957314584e9410625a95889567a65a"
   },
   "outputs": [],
   "source": [
    "DATA_DIR = Path(\"/ssd_data/kagle/spooky-author-identification/input\")\n",
    "\n",
    "train = pd.read_csv(str(DATA_DIR / Path(\"train.csv\")), encoding = \"utf8\")\n",
    "#train.shape\n",
    "#train.head()"
   ]
  },
  {
   "cell_type": "markdown",
   "metadata": {
    "_cell_guid": "07a2a5b7-94d5-4d51-815a-310e47962230",
    "_uuid": "f6db60c74bcdbf92f348391669b3f3a61b6eba2f"
   },
   "source": [
    "For understanding spacy I'll focus on the first author EAP:"
   ]
  },
  {
   "cell_type": "code",
   "execution_count": 8,
   "metadata": {
    "_cell_guid": "7515d7a2-3182-4069-98c6-db9cd65d6a49",
    "_uuid": "bcea2f35bfa7a05b610ae791f0e097521b39a3fd"
   },
   "outputs": [
    {
     "data": {
      "text/plain": [
       "'This process, however, afforded me no means of ascertaining the dimensions of my dungeon; as I might make its circuit, and return to the point whence I set out, without being aware of the fact; so perfectly uniform seemed the wall.'"
      ]
     },
     "execution_count": 8,
     "metadata": {},
     "output_type": "execute_result"
    }
   ],
   "source": [
    "list_EAP = list(train.text[train.author == \"EAP\"])\n",
    "list_EAP[0]"
   ]
  },
  {
   "cell_type": "code",
   "execution_count": 9,
   "metadata": {
    "_cell_guid": "73156f2f-8080-4dd3-93fa-301830f5584f",
    "_uuid": "c393cc15dc0869787cf2bb5ab2f32812ff67ab81"
   },
   "outputs": [
    {
     "data": {
      "text/plain": [
       "7900"
      ]
     },
     "execution_count": 9,
     "metadata": {},
     "output_type": "execute_result"
    }
   ],
   "source": [
    "len(list_EAP)"
   ]
  },
  {
   "cell_type": "code",
   "execution_count": 10,
   "metadata": {
    "_cell_guid": "36af7dba-e837-40a5-93f8-36d33eb76175",
    "_uuid": "73f671f1faa9ea090170917f0053a17a020eb953",
    "collapsed": true
   },
   "outputs": [],
   "source": [
    "def list_to_text(l):\n",
    "    document = \" \"\n",
    "    for s in range(len(l)):\n",
    "        sent = \"\".join(l[s]).strip()\n",
    "        document += sent\n",
    "    return document"
   ]
  },
  {
   "cell_type": "code",
   "execution_count": 11,
   "metadata": {
    "_cell_guid": "19fa6151-9b6d-47e7-a108-5d661749a17c",
    "_uuid": "7a2e1ac933461599e41fce6a1e0b1e915b64cd1f",
    "collapsed": true
   },
   "outputs": [],
   "source": [
    "text_EAP = list_to_text(list_EAP)\n",
    "#text_EAP\n",
    "#len(text_EAP)"
   ]
  },
  {
   "cell_type": "code",
   "execution_count": 14,
   "metadata": {
    "_cell_guid": "9d74345e-e5bf-4dd6-a034-cf6b1e47e288",
    "_uuid": "75289cc5de2c3bc8bd408321e2decc071b20b28b"
   },
   "outputs": [],
   "source": [
    "#import en_core_web_sm\n",
    "#nlp = en_core_web_sm.load()\n",
    "\n",
    "nlp = spacy.load('en')"
   ]
  },
  {
   "cell_type": "markdown",
   "metadata": {
    "_cell_guid": "9faea3cc-d2e8-49cf-bb80-6da55b3b584e",
    "_uuid": "556481e34525ccc5c4898364a8dc434f91a5dc21"
   },
   "source": [
    "https://spacy.io/usage/processing-pipelines \n",
    "\n",
    "When you call nlp on a text, spaCy first tokenizes the text to produce a Doc object. The Doc is then processed in several different steps – this is also referred to as the processing pipeline. The pipeline used by the default models consists of a tagger, a parser and an entity recognizer. Each pipeline component returns the processed Doc, which is then passed on to the next component."
   ]
  },
  {
   "cell_type": "code",
   "execution_count": 15,
   "metadata": {
    "_cell_guid": "e90c0ca7-c83f-4c2e-9655-ffbf298f505b",
    "_uuid": "2b2d3bea1da7f6301e50e2fb0f5f4b7b23831cb0",
    "collapsed": true
   },
   "outputs": [],
   "source": [
    "eap = nlp(text_EAP)"
   ]
  },
  {
   "cell_type": "code",
   "execution_count": 16,
   "metadata": {
    "_cell_guid": "faa62180-e56e-4153-bd13-e85c14e2013a",
    "_uuid": "1eb0a3ae488899f188a8ef03e918a93e1adc2028"
   },
   "outputs": [
    {
     "data": {
      "text/plain": [
       "True"
      ]
     },
     "execution_count": 16,
     "metadata": {},
     "output_type": "execute_result"
    }
   ],
   "source": [
    "#dir(eap)\n",
    "#eap.is_parsed\n",
    "eap.is_tagged\n",
    "#eap.doc"
   ]
  },
  {
   "cell_type": "code",
   "execution_count": 17,
   "metadata": {
    "_cell_guid": "e8751db9-21b2-4a81-ab26-dd65702915d1",
    "_uuid": "fa6eb1bc6230a2d6d4355e01c226dffc4427f4bd"
   },
   "outputs": [
    {
     "name": "stdout",
     "output_type": "stream",
     "text": [
      "There are 7423 sentences.\n"
     ]
    }
   ],
   "source": [
    "#Just to know how many sentences.\n",
    "#It's not importnat to focus on sentnces but words.\n",
    "sentences = [sentence.orth_ for sentence in eap.sents]\n",
    "print(\"There are {} sentences.\".format(len(sentences)))"
   ]
  },
  {
   "cell_type": "markdown",
   "metadata": {
    "_cell_guid": "3a05a87b-80cd-4f04-8256-c1fe3c9af2af",
    "_uuid": "7182e73fdb4432e0de01b067d1a0c940c126692d"
   },
   "source": [
    "**Noun phrases:**\n",
    "* **Text**: The original noun chunk text.\n",
    "* **Root text**: The original text of the word connecting the noun chunk to the rest of the parse.\n",
    "* **Root dep**: Dependcy relation connecting the root to its head.\n",
    "* **Root head text**: The text of the root token's head."
   ]
  },
  {
   "cell_type": "code",
   "execution_count": 18,
   "metadata": {
    "_cell_guid": "0ef5104b-ce12-4021-ad41-6ef4896cea69",
    "_uuid": "6c4769cb209c3fe94e9f5ffe9bf9df8037271c9c"
   },
   "outputs": [
    {
     "data": {
      "text/html": [
       "<div>\n",
       "<style>\n",
       "    .dataframe thead tr:only-child th {\n",
       "        text-align: right;\n",
       "    }\n",
       "\n",
       "    .dataframe thead th {\n",
       "        text-align: left;\n",
       "    }\n",
       "\n",
       "    .dataframe tbody tr th {\n",
       "        vertical-align: top;\n",
       "    }\n",
       "</style>\n",
       "<table border=\"1\" class=\"dataframe\">\n",
       "  <thead>\n",
       "    <tr style=\"text-align: right;\">\n",
       "      <th></th>\n",
       "      <th>0</th>\n",
       "      <th>1</th>\n",
       "      <th>2</th>\n",
       "      <th>3</th>\n",
       "    </tr>\n",
       "  </thead>\n",
       "  <tbody>\n",
       "    <tr>\n",
       "      <th>0</th>\n",
       "      <td>This process</td>\n",
       "      <td>process</td>\n",
       "      <td>nsubj</td>\n",
       "      <td>afforded</td>\n",
       "    </tr>\n",
       "    <tr>\n",
       "      <th>1</th>\n",
       "      <td>me</td>\n",
       "      <td>me</td>\n",
       "      <td>dobj</td>\n",
       "      <td>afforded</td>\n",
       "    </tr>\n",
       "    <tr>\n",
       "      <th>2</th>\n",
       "      <td>no means</td>\n",
       "      <td>means</td>\n",
       "      <td>dobj</td>\n",
       "      <td>afforded</td>\n",
       "    </tr>\n",
       "    <tr>\n",
       "      <th>3</th>\n",
       "      <td>the dimensions</td>\n",
       "      <td>dimensions</td>\n",
       "      <td>dobj</td>\n",
       "      <td>ascertaining</td>\n",
       "    </tr>\n",
       "    <tr>\n",
       "      <th>4</th>\n",
       "      <td>my dungeon</td>\n",
       "      <td>dungeon</td>\n",
       "      <td>pobj</td>\n",
       "      <td>of</td>\n",
       "    </tr>\n",
       "  </tbody>\n",
       "</table>\n",
       "</div>"
      ],
      "text/plain": [
       "                0           1      2             3\n",
       "0    This process     process  nsubj      afforded\n",
       "1              me          me   dobj      afforded\n",
       "2        no means       means   dobj      afforded\n",
       "3  the dimensions  dimensions   dobj  ascertaining\n",
       "4      my dungeon     dungeon   pobj            of"
      ]
     },
     "execution_count": 18,
     "metadata": {},
     "output_type": "execute_result"
    }
   ],
   "source": [
    "chunks = [(chunk.text, chunk.root.text, chunk.root.dep_,chunk.root.head.text) for chunk in eap.noun_chunks]\n",
    "df = pd.DataFrame(chunks)\n",
    "df.head()"
   ]
  },
  {
   "cell_type": "code",
   "execution_count": 19,
   "metadata": {
    "_cell_guid": "d8b78381-5735-4a08-a832-c311aa2cf11a",
    "_uuid": "6991928a2190af4ddc6aa0eaa8c9dd19eea967d8"
   },
   "outputs": [
    {
     "data": {
      "text/html": [
       "<div>\n",
       "<style>\n",
       "    .dataframe thead tr:only-child th {\n",
       "        text-align: right;\n",
       "    }\n",
       "\n",
       "    .dataframe thead th {\n",
       "        text-align: left;\n",
       "    }\n",
       "\n",
       "    .dataframe tbody tr th {\n",
       "        vertical-align: top;\n",
       "    }\n",
       "</style>\n",
       "<table border=\"1\" class=\"dataframe\">\n",
       "  <thead>\n",
       "    <tr style=\"text-align: right;\">\n",
       "      <th></th>\n",
       "      <th>0</th>\n",
       "      <th>1</th>\n",
       "      <th>2</th>\n",
       "      <th>3</th>\n",
       "      <th>4</th>\n",
       "    </tr>\n",
       "  </thead>\n",
       "  <tbody>\n",
       "    <tr>\n",
       "      <th>0</th>\n",
       "      <td></td>\n",
       "      <td></td>\n",
       "      <td>This</td>\n",
       "      <td>DET</td>\n",
       "      <td>[]</td>\n",
       "    </tr>\n",
       "    <tr>\n",
       "      <th>1</th>\n",
       "      <td>This</td>\n",
       "      <td>det</td>\n",
       "      <td>process</td>\n",
       "      <td>NOUN</td>\n",
       "      <td>[ ]</td>\n",
       "    </tr>\n",
       "    <tr>\n",
       "      <th>2</th>\n",
       "      <td>process</td>\n",
       "      <td>nsubj</td>\n",
       "      <td>afforded</td>\n",
       "      <td>VERB</td>\n",
       "      <td>[This]</td>\n",
       "    </tr>\n",
       "    <tr>\n",
       "      <th>3</th>\n",
       "      <td>,</td>\n",
       "      <td>punct</td>\n",
       "      <td>afforded</td>\n",
       "      <td>VERB</td>\n",
       "      <td>[]</td>\n",
       "    </tr>\n",
       "    <tr>\n",
       "      <th>4</th>\n",
       "      <td>however</td>\n",
       "      <td>advmod</td>\n",
       "      <td>afforded</td>\n",
       "      <td>VERB</td>\n",
       "      <td>[]</td>\n",
       "    </tr>\n",
       "  </tbody>\n",
       "</table>\n",
       "</div>"
      ],
      "text/plain": [
       "         0       1         2     3       4\n",
       "0                       This   DET      []\n",
       "1     This     det   process  NOUN     [ ]\n",
       "2  process   nsubj  afforded  VERB  [This]\n",
       "3        ,   punct  afforded  VERB      []\n",
       "4  however  advmod  afforded  VERB      []"
      ]
     },
     "execution_count": 19,
     "metadata": {},
     "output_type": "execute_result"
    }
   ],
   "source": [
    "tokens = [(token.text, token.dep_, token.head.text, token.head.pos_, [child for child in token.children]) for token in eap]\n",
    "df = pd.DataFrame(tokens)\n",
    "df.head()"
   ]
  },
  {
   "cell_type": "markdown",
   "metadata": {
    "_cell_guid": "2e1d36da-77ea-487b-8d80-5e5d5a247a11",
    "_uuid": "4f42a40171e3769fda5f1d3b1ed41e231187b637"
   },
   "source": [
    "**Tokens:**\n",
    "* **Text**: The original token text.\n",
    "* **Dep**: The syntactic relation connecting child to head.\n",
    "* **Head text**: The original text of the token head.\n",
    "* **Head POS**: The part-of-speech tag of the token head.\n",
    "* **Children**: The immediate syntactic dependents of the token."
   ]
  },
  {
   "cell_type": "code",
   "execution_count": 20,
   "metadata": {
    "_cell_guid": "b8da17b7-b63a-443e-bd83-8a200fa3d3f4",
    "_uuid": "a5451ef9cd4c16e42433302476693e9b743d2ddc"
   },
   "outputs": [
    {
     "name": "stdout",
     "output_type": "stream",
     "text": [
      "['some', 'cleaning', \"does'nt\", 'hurt', '.', 'so', 'let', \"'s\", 'do', 'it'] \n",
      " ['some', 'cleaning', 'does', \"n't\", 'hurt', '.', 'so', 'let', \"'s\", 'do', 'it']\n"
     ]
    }
   ],
   "source": [
    "#AN example to check if \"'s\" and \"'nt\" are tokens with the spacy default tokenizer\n",
    "doc = nlp(\"some cleaning does'nt hurt. so let's do it\")#some times mistake like this does'nt occur ==> more work to check spelling\n",
    "doc1 = nlp(\"some cleaning doesn't hurt. so let's do it\")# correct this our example\n",
    "tokens = [token.orth_ for token in doc]\n",
    "tokens1 = [token.orth_ for token in doc1]\n",
    "print(tokens,\"\\n\",tokens1)"
   ]
  },
  {
   "cell_type": "markdown",
   "metadata": {
    "_cell_guid": "f0b3820f-1169-4beb-95e3-c5ac7bef279d",
    "_uuid": "825c711fc6e350cd52dcd63c780f3827c2966b95"
   },
   "source": [
    "With spacy the default tokenizer is good. But may be we'll need to customize it. We will see in further steps."
   ]
  },
  {
   "cell_type": "markdown",
   "metadata": {
    "_cell_guid": "fb533828-cbb3-4682-83cc-392aba5788cf",
    "_uuid": "cd4cf389c121cdd0e6989011f170278983878981"
   },
   "source": [
    "**Some counting:**"
   ]
  },
  {
   "cell_type": "code",
   "execution_count": 21,
   "metadata": {
    "_cell_guid": "f0216fb3-9c72-443e-bc65-ac18429ac03d",
    "_uuid": "1d454202321eb19fa2a7ec2f39ae13f8ef8af13d"
   },
   "outputs": [
    {
     "name": "stdout",
     "output_type": "stream",
     "text": [
      "There are 228100 tokens\n"
     ]
    }
   ],
   "source": [
    "tokens = [token.orth_ for token in eap]\n",
    "print(\"There are {} tokens\".format(len(tokens)))"
   ]
  },
  {
   "cell_type": "code",
   "execution_count": 22,
   "metadata": {
    "_cell_guid": "0ede50fb-419a-4e0c-8ef0-2b786ea31789",
    "_uuid": "8d098f2f7196ade9e43b675613b27bdfad6bdd90"
   },
   "outputs": [
    {
     "data": {
      "text/plain": [
       "[(',', 17594),\n",
       " ('the', 13957),\n",
       " ('of', 8938),\n",
       " ('.', 6486),\n",
       " ('and', 5477),\n",
       " ('to', 4647),\n",
       " ('a', 4531),\n",
       " ('in', 3773),\n",
       " ('I', 3605),\n",
       " ('that', 2260)]"
      ]
     },
     "execution_count": 22,
     "metadata": {},
     "output_type": "execute_result"
    }
   ],
   "source": [
    "Counter(tokens).most_common(10)"
   ]
  },
  {
   "cell_type": "code",
   "execution_count": 23,
   "metadata": {
    "_cell_guid": "c931b041-8942-4063-a195-9d71b8d7ec77",
    "_uuid": "7ecac99c72a8983268efedba641a845a66894c34"
   },
   "outputs": [
    {
     "name": "stdout",
     "output_type": "stream",
     "text": [
      "There are 199871 cleaned tokens\n"
     ]
    }
   ],
   "source": [
    "#let's clean our eap doc\n",
    "cleaned_tokens = [token.orth_ for token in eap if not token.is_punct | token.is_space]\n",
    "print(\"There are {} cleaned tokens\".format(len(cleaned_tokens)))"
   ]
  },
  {
   "cell_type": "code",
   "execution_count": 24,
   "metadata": {
    "_cell_guid": "3e18bd69-34c5-4118-bcd0-b17ed8045af5",
    "_uuid": "1cd8e820d11da47534eacd148536874024719223"
   },
   "outputs": [
    {
     "data": {
      "text/plain": [
       "[('the', 13957),\n",
       " ('of', 8938),\n",
       " ('and', 5477),\n",
       " ('to', 4647),\n",
       " ('a', 4531),\n",
       " ('in', 3773),\n",
       " ('I', 3605),\n",
       " ('that', 2260),\n",
       " ('was', 2201),\n",
       " ('it', 1829)]"
      ]
     },
     "execution_count": 24,
     "metadata": {},
     "output_type": "execute_result"
    }
   ],
   "source": [
    "Counter(cleaned_tokens).most_common(10)"
   ]
  },
  {
   "cell_type": "markdown",
   "metadata": {
    "_cell_guid": "27e289bb-d75c-4682-9f0f-5a18b04546c8",
    "_uuid": "7f3bcf83a0832ed999ff95963f808f09649bdc00"
   },
   "source": [
    "(',', 17594) and ('.', 6486) are ignored after cleaning."
   ]
  },
  {
   "cell_type": "markdown",
   "metadata": {
    "_cell_guid": "a9a1d96b-6e7f-46df-b72d-3f35c1c1a8d1",
    "_uuid": "a7568cdebedbc54618711bc1890fce63a33ce5c5"
   },
   "source": [
    "Lemmatization:\n",
    "Lemmatisation is the process of reducing a word to its base form. Different uses of a word often have the same root meaning. For example, program, programmed and programming all essentially refer to the same thing. \n",
    "Lemmatization avoids word duplication and, therefore, allows for the model to build a clearer picture of patterns of word usage across multiple documents.\n",
    "\n"
   ]
  },
  {
   "cell_type": "code",
   "execution_count": 25,
   "metadata": {
    "_cell_guid": "b0fef597-1380-4ffd-9526-cc724a3debb4",
    "_uuid": "5b6d0bc516112a47ccd055acdd599d8c86572160"
   },
   "outputs": [
    {
     "name": "stdout",
     "output_type": "stream",
     "text": [
      "There are 228100 lemmas\n"
     ]
    }
   ],
   "source": [
    "lemmas = [(i,i.lemma_) for i in eap]\n",
    "print(\"There are {} lemmas\".format(len(lemmas)))"
   ]
  },
  {
   "cell_type": "code",
   "execution_count": 26,
   "metadata": {
    "_cell_guid": "bf68630b-535a-493e-b47a-b3b63b59a2b8",
    "_uuid": "0310dc5bc06526a2f859a628e13f20b2a5d6cec7"
   },
   "outputs": [
    {
     "data": {
      "text/plain": [
       "[(( , ' '), 1),\n",
       " ((This, 'this'), 1),\n",
       " ((process, 'process'), 1),\n",
       " ((,, ','), 1),\n",
       " ((however, 'however'), 1),\n",
       " ((,, ','), 1),\n",
       " ((afforded, 'afford'), 1),\n",
       " ((me, '-PRON-'), 1),\n",
       " ((no, 'no'), 1),\n",
       " ((means, 'mean'), 1)]"
      ]
     },
     "execution_count": 26,
     "metadata": {},
     "output_type": "execute_result"
    }
   ],
   "source": [
    "Counter(lemmas).most_common(10)"
   ]
  },
  {
   "cell_type": "markdown",
   "metadata": {
    "_cell_guid": "fe3d15c5-c407-42ab-a4ed-8988d36f8644",
    "_uuid": "2123d1bcf3cb91fb8156d2d9f3261b434d9998ed",
    "collapsed": true
   },
   "source": [
    "POS Tagging\n",
    "Part-of-speech tagging is the process of assigning grammatical properties (e.g. noun, verb, adverb, adjective etc.) to words. Words that share the same POS tag tend to follow a similar syntactic structure and are useful in rule-based processes."
   ]
  },
  {
   "cell_type": "code",
   "execution_count": 27,
   "metadata": {
    "_cell_guid": "90362a48-5b94-4c16-a014-ca471eb9dee3",
    "_uuid": "9d4c6d075c80dce407161c01c43443b063c3ebbf"
   },
   "outputs": [
    {
     "name": "stdout",
     "output_type": "stream",
     "text": [
      "There are 228100 pos_tags\n"
     ]
    }
   ],
   "source": [
    "pos_tags = [(i, i.tag_) for i in eap]\n",
    "print(\"There are {} pos_tags\".format(len(pos_tags)))"
   ]
  },
  {
   "cell_type": "code",
   "execution_count": 28,
   "metadata": {
    "_cell_guid": "583b42fd-0c9e-4ee0-9ece-95d145ccbb55",
    "_uuid": "c5f77e7fea1da0817c7658a3eb014cf1050b15fe"
   },
   "outputs": [
    {
     "data": {
      "text/plain": [
       "[(( , ''), 1),\n",
       " ((This, 'DT'), 1),\n",
       " ((process, 'NN'), 1),\n",
       " ((,, ','), 1),\n",
       " ((however, 'RB'), 1),\n",
       " ((,, ','), 1),\n",
       " ((afforded, 'VBD'), 1),\n",
       " ((me, 'PRP'), 1),\n",
       " ((no, 'DT'), 1),\n",
       " ((means, 'NNS'), 1)]"
      ]
     },
     "execution_count": 28,
     "metadata": {},
     "output_type": "execute_result"
    }
   ],
   "source": [
    "Counter(pos_tags).most_common(10)"
   ]
  },
  {
   "cell_type": "markdown",
   "metadata": {
    "_cell_guid": "3d53c27e-7976-4042-9790-e933dceba3a4",
    "_uuid": "411c04010ddef48b7db4021fa1ed87095baac709"
   },
   "source": [
    "Here I'm trying to extract some part of speech which can be useful for further steps."
   ]
  },
  {
   "cell_type": "code",
   "execution_count": 29,
   "metadata": {
    "_cell_guid": "d8df26d7-6a3d-4d37-8cb0-ae1022486270",
    "_uuid": "e512986a789fecf9097ef6fd8c2016fb184e3596",
    "collapsed": true
   },
   "outputs": [],
   "source": [
    "def is_verb(token):\n",
    "    return token.pos == spacy.parts_of_speech.VERB"
   ]
  },
  {
   "cell_type": "code",
   "execution_count": 30,
   "metadata": {
    "_cell_guid": "a5b82515-80d3-4eb7-9a22-767841c98625",
    "_uuid": "b82f19f0838f42e8f02dc894a1b7bf0fa93ced20"
   },
   "outputs": [
    {
     "data": {
      "text/plain": [
       "(22150,\n",
       " [(able, 1),\n",
       "  (withdraw, 1),\n",
       "  (intending, 1),\n",
       "  (took, 1),\n",
       "  (is, 1),\n",
       "  (regard, 1),\n",
       "  (possessed, 1),\n",
       "  (went, 1),\n",
       "  (entered, 1),\n",
       "  (sent, 1)])"
      ]
     },
     "execution_count": 30,
     "metadata": {},
     "output_type": "execute_result"
    }
   ],
   "source": [
    "verbs = set()\n",
    "for t in eap:\n",
    "    if is_verb(t):\n",
    "        verbs.add(t.head)\n",
    "len(verbs),Counter(verbs).most_common(10)"
   ]
  },
  {
   "cell_type": "markdown",
   "metadata": {
    "_cell_guid": "b3e5d4b2-c367-48f7-a5c6-276aee516a18",
    "_uuid": "f64f8089120aaeaeb114c2994bf68db1e5a7525b"
   },
   "source": [
    "Something wrong?\n",
    "(everything, 1)??? may you get different mistake.\n",
    "\n",
    "**Tip:** Good idea to extract right words, is to combine rules."
   ]
  },
  {
   "cell_type": "code",
   "execution_count": 31,
   "metadata": {
    "_cell_guid": "d4eec880-262a-4b37-b9c8-7fb3c3a1a06c",
    "_uuid": "6eb94997e01809360bbb57c8635bbb8c84426c8e"
   },
   "outputs": [
    {
     "data": {
      "text/plain": [
       "(14264,\n",
       " [(stands, 1),\n",
       "  (am, 1),\n",
       "  (eats, 1),\n",
       "  (experienced, 1),\n",
       "  (is, 1),\n",
       "  (whispered, 1),\n",
       "  (were, 1),\n",
       "  (stated, 1),\n",
       "  (telling, 1),\n",
       "  (withdraw, 1)])"
      ]
     },
     "execution_count": 31,
     "metadata": {},
     "output_type": "execute_result"
    }
   ],
   "source": [
    "verbs = set()\n",
    "for subject in eap:\n",
    "    if subject.dep == nsubj and subject.head.pos == VERB:\n",
    "        verbs.add(subject.head)\n",
    "len(verbs),Counter(verbs).most_common(10)"
   ]
  },
  {
   "cell_type": "code",
   "execution_count": 32,
   "metadata": {
    "_cell_guid": "d2681888-d609-4810-96b7-67195e07a836",
    "_uuid": "0ac5ab33f5179630040e9b3b9f89e66054ba1e3d"
   },
   "outputs": [
    {
     "data": {
      "text/plain": [
       "(13428,\n",
       " [(mines, 1),\n",
       "  (is, 1),\n",
       "  (is, 1),\n",
       "  (were, 1),\n",
       "  (is, 1),\n",
       "  (cordial, 1),\n",
       "  (pointed, 1),\n",
       "  (stated, 1),\n",
       "  (telling, 1),\n",
       "  (afflicted, 1)])"
      ]
     },
     "execution_count": 32,
     "metadata": {},
     "output_type": "execute_result"
    }
   ],
   "source": [
    "def is_adverb(token):\n",
    "    return token.pos == spacy.parts_of_speech.ADV\n",
    "adverbs = set()\n",
    "for t in eap:\n",
    "    if is_adverb(t):\n",
    "        adverbs.add(t.head)\n",
    "len(adverbs),Counter(adverbs).most_common(10)"
   ]
  },
  {
   "cell_type": "code",
   "execution_count": 33,
   "metadata": {
    "_cell_guid": "2343ad5a-61f2-45d0-a841-964e562930ad",
    "_uuid": "a0260672fe6a20a02b996007da36fbe519a791b4"
   },
   "outputs": [
    {
     "data": {
      "text/plain": [
       "(20737,\n",
       " [(parents, 1),\n",
       "  (awe, 1),\n",
       "  (ability, 1),\n",
       "  (head, 1),\n",
       "  (fulness, 1),\n",
       "  (ugh, 1),\n",
       "  (stands, 1),\n",
       "  (waters, 1),\n",
       "  (thinking, 1),\n",
       "  (am, 1)])"
      ]
     },
     "execution_count": 33,
     "metadata": {},
     "output_type": "execute_result"
    }
   ],
   "source": [
    "def is_adjective(token):\n",
    "    return token.pos == spacy.parts_of_speech.ADJ\n",
    "adjectives = set()\n",
    "for t in eap:\n",
    "    if is_adjective(t):\n",
    "        adjectives.add(t.head)\n",
    "len(adjectives),Counter(adjectives).most_common(10)"
   ]
  },
  {
   "cell_type": "markdown",
   "metadata": {
    "_cell_guid": "a5b1d79b-e7cd-473f-805a-de96948260ff",
    "_uuid": "f5e7e20e556d7ed5d6171d73d94ab821223819e9",
    "collapsed": true
   },
   "source": [
    "Entity recognition\n",
    "Entity recognition is the process of classifying named entities found in a text into pre-defined categories, such as persons, places, organizations, dates, etc."
   ]
  },
  {
   "cell_type": "code",
   "execution_count": 34,
   "metadata": {
    "_cell_guid": "9119347f-d867-4ef8-99d3-514e44f61e2e",
    "_uuid": "13cd07d8b0f19b97585e89a929785def1eb927cd"
   },
   "outputs": [
    {
     "data": {
      "text/plain": [
       "(6097,\n",
       " [((Epicurus, 'ORG'), 1),\n",
       "  ((Greek, 'NORP'), 1),\n",
       "  ((Orion, 'PRODUCT'), 1),\n",
       "  ((one, 'CARDINAL'), 1),\n",
       "  ((Draconian, 'NORP'), 1),\n",
       "  ((academy?These, 'NORP'), 1),\n",
       "  ((Pure, 'ORG'), 1),\n",
       "  ((California, 'GPE'), 1),\n",
       "  ((Von Kempelen's, 'PERSON'), 1),\n",
       "  ((Arnheim, 'GPE'), 1)])"
      ]
     },
     "execution_count": 34,
     "metadata": {},
     "output_type": "execute_result"
    }
   ],
   "source": [
    "entities = [(i,i.label_) for i in eap.ents] \n",
    "len(entities),Counter(entities).most_common(10)"
   ]
  },
  {
   "cell_type": "code",
   "execution_count": 35,
   "metadata": {
    "_cell_guid": "50918b23-8c55-4a00-8e49-59b43a64ad9b",
    "_uuid": "dfed7f59c819b96e30db7e0a1d5c0d5a69325f0b"
   },
   "outputs": [
    {
     "data": {
      "text/plain": [
       "(6097,\n",
       " [('PERSON', 1374),\n",
       "  ('CARDINAL', 916),\n",
       "  ('ORG', 854),\n",
       "  ('GPE', 588),\n",
       "  ('DATE', 519),\n",
       "  ('TIME', 449),\n",
       "  ('ORDINAL', 397),\n",
       "  ('NORP', 288),\n",
       "  ('LOC', 214),\n",
       "  ('QUANTITY', 187)])"
      ]
     },
     "execution_count": 35,
     "metadata": {},
     "output_type": "execute_result"
    }
   ],
   "source": [
    "#count just labels\n",
    "labels = [i.label_ for i in eap.ents] \n",
    "len(labels),Counter(labels).most_common(10)"
   ]
  },
  {
   "cell_type": "code",
   "execution_count": 36,
   "metadata": {
    "_cell_guid": "2d373367-951e-451f-980b-ca2af59ce519",
    "_uuid": "81e216a3cbf2e03a30fa872f47736244cb0944e5"
   },
   "outputs": [
    {
     "data": {
      "text/plain": [
       "'Countries, cities, states'"
      ]
     },
     "execution_count": 36,
     "metadata": {},
     "output_type": "execute_result"
    }
   ],
   "source": [
    "#If you want to know a label meaning\n",
    "spacy.explain('GPE')"
   ]
  },
  {
   "cell_type": "markdown",
   "metadata": {
    "_cell_guid": "4be805a3-8fe7-401e-b201-0b420314512b",
    "_uuid": "d327703bf807f5a803ef9a1dd293cddc2c02feef"
   },
   "source": [
    "To learn more and master spacy's linguistic features see : https://spacy.io/usage/linguistic-features"
   ]
  },
  {
   "cell_type": "markdown",
   "metadata": {
    "_cell_guid": "3f826f48-2ddc-47a5-8fa6-51602a877b0b",
    "_uuid": "ca5831c8a6aba9f274de2c560191a02348f466b6"
   },
   "source": [
    "**SERIOUS WORK:**\n",
    "\n",
    "1. Cleaning each document,(N.B: some sentences are for French language.)\n",
    "1. Extract significant words related to the author style (adjectives, verbs, adverbs)\n",
    "1. word embedding\n",
    "1. RNN model for training\n",
    "\n"
   ]
  },
  {
   "cell_type": "markdown",
   "metadata": {
    "_cell_guid": "4b47e92d-4b2b-4afc-956f-5a5bd5d61e62",
    "_uuid": "a544129515ec2454f3a04f78bf19a827baa0de36"
   },
   "source": [
    "**STEP 1: CLEANING**"
   ]
  },
  {
   "cell_type": "markdown",
   "metadata": {
    "_cell_guid": "84037f90-9cd5-495e-8ac6-27bba447fd91",
    "_uuid": "e02b175332521d785c8b304d30dc77c6c62c9bfb"
   },
   "source": [
    "During my experience with this text I've noticed:\n",
    "1. some mistake such as (\"Bransby's?Wrap\",),('ensue.i', 1) \n",
    "1. some similar names 'Elah Gabalah',  'Elah Gabalus' (I don' know if it's a mistake or they are different person).\n",
    "1. (\"dxn't dx\", 1),  ('massa de lef eye jis', 1),?????? not entities"
   ]
  },
  {
   "cell_type": "code",
   "execution_count": 37,
   "metadata": {
    "_cell_guid": "779748c2-bde7-494a-af93-dad7e5db945e",
    "_uuid": "e680bb858867d8857ec81189911fbc3bbfeaac91",
    "collapsed": true
   },
   "outputs": [],
   "source": [
    "# Useful functions:\n",
    "# transform lists to texts\n",
    "def list_to_text(l):\n",
    "    text = \" \"\n",
    "    for s in range(len(l)):\n",
    "        sent = \"\".join(l[s]).strip()\n",
    "        text += sent\n",
    "    return text\n",
    "# Clean up the texts\n",
    "def cleanText(text):\n",
    "    text = text.strip().replace(\"?\",\"? \").replace(\".\",\". \")\n",
    "    text = text.lower()\n",
    "    return text\n",
    "# Get the documents with spacy\n",
    "def to_nlp(text):\n",
    "    nlp = spacy.load('en')\n",
    "    cleaned_text = cleanText(text)\n",
    "    document = nlp(cleaned_text)\n",
    "    return document"
   ]
  },
  {
   "cell_type": "markdown",
   "metadata": {
    "_cell_guid": "ebb3a9bb-7638-4c61-9fbd-e3fdb28e9f1e",
    "_uuid": "32b0d49f18e52de2b8b006e87f596fd7cbd33bbf"
   },
   "source": [
    "**First author EAP:**"
   ]
  },
  {
   "cell_type": "code",
   "execution_count": 38,
   "metadata": {
    "_cell_guid": "4d56b2c5-d35e-46c8-9200-4fc2e9481a03",
    "_uuid": "ec18fc56fc021d34cc6ac344151043f6fa87bb22",
    "collapsed": true
   },
   "outputs": [],
   "source": [
    "list_EAP = list(train.text[train.author == \"EAP\"])"
   ]
  },
  {
   "cell_type": "code",
   "execution_count": 39,
   "metadata": {
    "_cell_guid": "cc03c767-6593-4e9b-9192-b9120341a88f",
    "_uuid": "80c07f446b3cfb1cf513194504be3f6d802ec975",
    "collapsed": true
   },
   "outputs": [],
   "source": [
    "text_eap = list_to_text(list_EAP)"
   ]
  },
  {
   "cell_type": "code",
   "execution_count": 40,
   "metadata": {
    "_cell_guid": "928e459f-1886-47d2-8480-f68218e2dfce",
    "_uuid": "b887823f70bda832c9cd4965b0291a0cbdcc57e0",
    "collapsed": true
   },
   "outputs": [],
   "source": [
    "eap = to_nlp(text_eap)"
   ]
  },
  {
   "cell_type": "code",
   "execution_count": 41,
   "metadata": {
    "_cell_guid": "6cf58b66-0cb8-4e65-92de-4a6565804411",
    "_uuid": "94627b190afdb0aeabbbd7141fbdc1dfe7bbd6b4"
   },
   "outputs": [
    {
     "data": {
      "text/plain": [
       "233451"
      ]
     },
     "execution_count": 41,
     "metadata": {},
     "output_type": "execute_result"
    }
   ],
   "source": [
    "len(eap)"
   ]
  },
  {
   "cell_type": "markdown",
   "metadata": {
    "_cell_guid": "72592851-edd0-4fa5-a086-75eababbbcd9",
    "_uuid": "117ceef34539b65dc747ba105e1fdb876a37b9c7",
    "collapsed": true
   },
   "source": [
    "**Second author HPL:**"
   ]
  },
  {
   "cell_type": "code",
   "execution_count": 42,
   "metadata": {
    "_cell_guid": "29a7e936-abea-4990-961d-fdaeee3a14f1",
    "_uuid": "74c3fd80ab005d4fc44fb1da59451e61ebd56832",
    "collapsed": true
   },
   "outputs": [],
   "source": [
    "list_HPL = list(train.text[train.author == \"HPL\"])"
   ]
  },
  {
   "cell_type": "code",
   "execution_count": 43,
   "metadata": {
    "_cell_guid": "2affdaf8-69b9-4d5c-b5a0-4238b8ce3e32",
    "_uuid": "b6d3026285fe52b1ebd979f4d5543c9039584a6d",
    "collapsed": true
   },
   "outputs": [],
   "source": [
    "text_hpl = list_to_text(list_HPL)"
   ]
  },
  {
   "cell_type": "code",
   "execution_count": 44,
   "metadata": {
    "_cell_guid": "585e06fe-64b3-49ec-9955-735aeff9a822",
    "_uuid": "0a151b3c00d61d114e6361918e4914d03d027ac4",
    "collapsed": true
   },
   "outputs": [],
   "source": [
    "hpl = to_nlp(text_hpl)"
   ]
  },
  {
   "cell_type": "code",
   "execution_count": 45,
   "metadata": {
    "_cell_guid": "0c97f4f3-8599-44ec-ae75-1705396c8e7c",
    "_uuid": "957e5222781f6b55938b8ad1ca43e6e7696982be"
   },
   "outputs": [
    {
     "data": {
      "text/plain": [
       "174453"
      ]
     },
     "execution_count": 45,
     "metadata": {},
     "output_type": "execute_result"
    }
   ],
   "source": [
    "len(hpl)"
   ]
  },
  {
   "cell_type": "markdown",
   "metadata": {
    "_cell_guid": "50c06a70-caef-45f7-bdea-5d1b9c5b3acb",
    "_uuid": "cd9b8a74285809f5dca89fc292240d104d1919ba"
   },
   "source": [
    "**Third author MWS:**"
   ]
  },
  {
   "cell_type": "code",
   "execution_count": 46,
   "metadata": {
    "_cell_guid": "413da82f-d90c-4215-8167-bbf8b40d91d3",
    "_uuid": "8c68cdee15daca29a37479fdb691421639d9097d",
    "collapsed": true
   },
   "outputs": [],
   "source": [
    "list_MWS = list(train.text[train.author == \"MWS\"])"
   ]
  },
  {
   "cell_type": "code",
   "execution_count": 47,
   "metadata": {
    "_cell_guid": "1692f62a-d299-4ec7-8d2d-72270def34ac",
    "_uuid": "940dc8e510867f0c2fe871ff7cc19e7afde57c7b",
    "collapsed": true
   },
   "outputs": [],
   "source": [
    "text_mws = list_to_text(list_MWS)"
   ]
  },
  {
   "cell_type": "code",
   "execution_count": 48,
   "metadata": {
    "_cell_guid": "3789a2eb-90c9-4876-b746-a8ac4421b3d9",
    "_uuid": "d937552781edc4a103be47ff02c8978ef8a56760",
    "collapsed": true
   },
   "outputs": [],
   "source": [
    "mws = to_nlp(text_mws)"
   ]
  },
  {
   "cell_type": "code",
   "execution_count": 49,
   "metadata": {
    "_cell_guid": "74f3bf40-d953-4c24-af91-6305453f0d31",
    "_uuid": "69303a0c4c5e9622ceccb8e4890dbbb0720d0d2f"
   },
   "outputs": [
    {
     "data": {
      "text/plain": [
       "188973"
      ]
     },
     "execution_count": 49,
     "metadata": {},
     "output_type": "execute_result"
    }
   ],
   "source": [
    "len(mws)"
   ]
  },
  {
   "cell_type": "markdown",
   "metadata": {
    "_cell_guid": "86cfeda8-125f-4381-904e-db77cd258d9a",
    "_uuid": "0fc9a4524f6bb44cc2e506c1b06386d6ceb45d62"
   },
   "source": [
    "**STEP2: EXTRACTING WORDS**"
   ]
  },
  {
   "cell_type": "code",
   "execution_count": 50,
   "metadata": {
    "_cell_guid": "1a4856ee-7b77-4b33-a4f7-aae55ba592d5",
    "_uuid": "3ae0dfccb6d58a4d4b6a15f2ffc4d8778dd57926",
    "collapsed": true
   },
   "outputs": [],
   "source": [
    "from collections import defaultdict\n",
    "def dict_words(list_words,limit):\n",
    "    counter = defaultdict(int)\n",
    "    for k in list_words:\n",
    "        counter[k] += 1\n",
    "    dict_words = sorted(counter.items(),key=lambda x: x[1])\n",
    "    highly_used_words=list()\n",
    "    for i in range(len(dict_words)):\n",
    "        if dict_words[i][1]>=limit:\n",
    "            highly_used_words.append([dict_words[i][0]])\n",
    "    return highly_used_words"
   ]
  },
  {
   "cell_type": "code",
   "execution_count": 51,
   "metadata": {
    "_cell_guid": "8122bfcb-35b0-4fb8-96da-979908cd833e",
    "_uuid": "63d9543b31fef25039cbe4a2c47fa050bd8cb9ce",
    "collapsed": true
   },
   "outputs": [],
   "source": [
    "verbs = list()\n",
    "for subject in eap:\n",
    "    if subject.dep == nsubj and subject.head.pos == VERB:\n",
    "        verbs.append(subject.head.lemma_)"
   ]
  },
  {
   "cell_type": "code",
   "execution_count": 52,
   "metadata": {
    "_cell_guid": "5043dbc7-b18e-41a7-81d5-2e6d94ced0c8",
    "_uuid": "e089467fe3050f9a136430f6d3cc462bc83cf3e8",
    "collapsed": true
   },
   "outputs": [],
   "source": [
    "#highly_used_verbs\n",
    "highly_used_verbs = dict_words(verbs,100)"
   ]
  },
  {
   "cell_type": "code",
   "execution_count": 53,
   "metadata": {
    "_cell_guid": "6cf4dac8-5fa6-45da-b686-bf46d37896fa",
    "_uuid": "a8e76babc6eaed6a2ee268080f36893486251f3c"
   },
   "outputs": [
    {
     "data": {
      "text/plain": [
       "(175,\n",
       " [(california, 1),\n",
       "  (christian, 1),\n",
       "  ( , 1),\n",
       "  ( , 1),\n",
       "  ( , 1),\n",
       "  ( , 1),\n",
       "  ( , 1),\n",
       "  (g., 1),\n",
       "  ( , 1),\n",
       "  ( , 1)])"
      ]
     },
     "execution_count": 53,
     "metadata": {},
     "output_type": "execute_result"
    }
   ],
   "source": [
    "#just testing here....\n",
    "eap_heros = list()\n",
    "for ent in eap.ents:\n",
    "    if ent.label_ in ['PERSON','NORP','GPE']:\n",
    "        eap_heros.append(ent)\n",
    "len(eap_heros),Counter(eap_heros).most_common(10)"
   ]
  },
  {
   "cell_type": "code",
   "execution_count": 54,
   "metadata": {
    "_cell_guid": "2cee9f6c-aa1f-42d5-86ae-a9059896362a",
    "_uuid": "30bacb6c301def7aabf9a50b93b8ff4a4f88639a",
    "collapsed": true
   },
   "outputs": [],
   "source": [
    "highly_used_heros = dict_words(eap_heros,1)\n",
    "#highly_used_heros"
   ]
  },
  {
   "cell_type": "markdown",
   "metadata": {
    "_cell_guid": "6375af87-8322-421a-a04c-be4a9386de7a",
    "_uuid": "0be8b7599a6e9c89ebf7495c6153c1b1d7e0f49d"
   },
   "source": [
    "[\"],[j],[ ],[dxn't dx], [however], [massa de lef eye jis] are mistakes."
   ]
  },
  {
   "cell_type": "code",
   "execution_count": 55,
   "metadata": {
    "_cell_guid": "afdfee0e-2584-403f-be8b-d26bbbf7438d",
    "_uuid": "f65b86caad2ce26d82b743005135055dd8fe7822",
    "collapsed": true
   },
   "outputs": [],
   "source": [
    "# For each author I'll select unique vocabulary\n",
    "#eap_vocabulary = highly_used_verbs + highly_used_heros + ...."
   ]
  },
  {
   "cell_type": "markdown",
   "metadata": {
    "_cell_guid": "735a31a8-c6ac-4e8e-8f6d-02ce958b3c5d",
    "_uuid": "af80a29cf914bd3a5c23447f9cf70f593e41fa1b"
   },
   "source": [
    "**STEP3: WORD EMBEDDING**"
   ]
  },
  {
   "cell_type": "markdown",
   "metadata": {
    "_cell_guid": "080943bf-cfa9-41aa-a075-659e023c7c3d",
    "_uuid": "bd54151c47b8a73639cb2406ac00a16ab0933629"
   },
   "source": [
    "https://www.analyticsvidhya.com/blog/2017/06/word-embeddings-count-word2veec/\n",
    "\n",
    "**What are Word Embeddings?**\n",
    "\n",
    "In very simplistic terms, Word Embeddings are the texts converted into numbers and there may be different numerical representations of the same text. But before we dive into the details of Word Embeddings, the following question should be asked – Why do we need Word Embeddings?\n",
    "\n",
    "**Different types of Word Embeddings:**\n",
    "\n",
    "The different types of word embeddings can be broadly classified into two categories:\n",
    "*     Frequency based Embedding\n",
    "*     Prediction based Embedding"
   ]
  },
  {
   "cell_type": "code",
   "execution_count": 56,
   "metadata": {
    "_cell_guid": "02a2632b-e737-4ec2-8568-1a3008a9fe78",
    "_uuid": "4e2ac63360f5192f0b2a1a226bbb9907cc5746b2"
   },
   "outputs": [
    {
     "name": "stderr",
     "output_type": "stream",
     "text": [
      "Using TensorFlow backend.\n"
     ]
    }
   ],
   "source": [
    "from gensim.models import Word2Vec"
   ]
  },
  {
   "cell_type": "markdown",
   "metadata": {
    "_cell_guid": "94ff561d-d2c6-4acd-910d-b5d0320d8103",
    "_uuid": "9dd4377ea53db0c3da3793f49eebb81c9003ac38"
   },
   "source": [
    "https://machinelearningmastery.com/develop-word-embeddings-python-gensim/\n",
    "\n",
    "* **size**: (default 100) The number of dimensions of the embedding, e.g. the length of the dense vector to represent each token (word).\n",
    "* **window**: (default 5) The maximum distance between a target word and words around the target word.\n",
    "* **min_count**: (default 5) The minimum count of words to consider when training the model; words with an occurrence less than this count will be ignored.\n",
    "* **workers**: (default 3) The number of threads to use while training.\n",
    "* **sg**: (default 0 or CBOW) The training algorithm, either CBOW (0) or skip gram (1)."
   ]
  },
  {
   "cell_type": "code",
   "execution_count": 57,
   "metadata": {
    "_cell_guid": "a21a3d1b-8f74-41b3-8429-5e95bc131d59",
    "_uuid": "0ab720d4b36601f530a41a35c10297a20f567f8d"
   },
   "outputs": [
    {
     "name": "stdout",
     "output_type": "stream",
     "text": [
      "Word2Vec(vocab=19, size=100, alpha=0.025)\n",
      "['lie', 'give', 'appear', 'speak', 'become', 'feel', 'go', 'do', 'think', 'come', 'find', 'take', 'seem', 'know', 'make', 'see', 'say', 'have', 'be']\n"
     ]
    }
   ],
   "source": [
    "# train model\n",
    "model = Word2Vec(highly_used_verbs, min_count=1)\n",
    "# summarize the loaded model\n",
    "print(model)\n",
    "# summarize vocabulary\n",
    "words = list(model.wv.vocab)\n",
    "print(words)"
   ]
  },
  {
   "cell_type": "code",
   "execution_count": 58,
   "metadata": {
    "_cell_guid": "ce9b13b3-3161-4d3e-80bf-65e5fde4ef29",
    "_uuid": "ca8bc9b5bf27caf141ce5c16e90ba70a87b72b7d"
   },
   "outputs": [
    {
     "data": {
      "text/plain": [
       "19"
      ]
     },
     "execution_count": 58,
     "metadata": {},
     "output_type": "execute_result"
    }
   ],
   "source": [
    "vocabulary_size = len(model.wv.vocab) #vocab=19\n",
    "vocabulary_size"
   ]
  },
  {
   "cell_type": "code",
   "execution_count": 59,
   "metadata": {
    "_cell_guid": "e339481c-6db9-4388-90fc-91b58772f54c",
    "_uuid": "f24c47284520d78818db07e32d828da54fba8e5a"
   },
   "outputs": [
    {
     "name": "stdout",
     "output_type": "stream",
     "text": [
      "[ -1.61240331e-03  -4.61693760e-03   4.04398888e-03   2.90224416e-04\n",
      "   6.28177368e-04   1.82415009e-03   2.75202515e-03  -4.29000426e-03\n",
      "  -1.25402259e-03  -4.28610248e-03   4.09889640e-03  -1.72772969e-03\n",
      "  -4.12441231e-03  -4.49806685e-03   4.68318025e-03  -9.34383424e-04\n",
      "   3.69544770e-03  -3.03134415e-03   1.17809082e-04  -1.32469926e-03\n",
      "  -4.75927349e-03  -3.30509548e-03  -4.60619433e-03  -1.67225651e-03\n",
      "  -5.75813290e-04   3.97823937e-03   1.88497861e-03  -1.17223349e-03\n",
      "   5.57196152e-04   1.53996691e-04  -4.07228060e-03  -4.70788422e-04\n",
      "  -2.38969410e-03   5.39254688e-04   2.40281806e-03  -4.07919870e-04\n",
      "  -4.20269230e-03  -4.31441283e-03  -1.46989347e-04  -6.69802830e-04\n",
      "  -1.25356636e-03   1.30437512e-03   2.52550095e-03   4.39968938e-03\n",
      "  -6.00591709e-04  -7.16922514e-05  -3.46194394e-03  -4.38101403e-03\n",
      "   1.59538782e-03   3.82322073e-03   3.23126907e-03  -3.63556552e-03\n",
      "  -1.22461788e-04  -4.91338375e-04   1.75380660e-03  -3.92309669e-03\n",
      "  -2.75006401e-03   1.94479467e-03  -3.92336957e-03  -3.24635557e-03\n",
      "   4.35116002e-03  -4.53720102e-03   7.51048734e-04   8.02122871e-04\n",
      "   1.85126625e-03  -4.99592954e-03   4.54547582e-03   1.43327215e-03\n",
      "   8.66925257e-05  -3.07165348e-04  -3.05564911e-03   3.90789239e-03\n",
      "  -3.70765827e-03   4.54757083e-03  -4.79048304e-03   1.75142835e-03\n",
      "  -3.05994460e-03   1.58380938e-03  -3.95094947e-04   4.15344769e-03\n",
      "   4.51558735e-03   1.94304297e-03  -2.35048332e-03  -4.26362641e-03\n",
      "  -4.68936842e-03  -7.13708345e-04   1.31664576e-03  -2.51131831e-04\n",
      "  -6.76097348e-04   3.65394750e-03   6.27600748e-05  -3.61558003e-03\n",
      "   3.48455459e-03   1.63030892e-03   1.20362232e-03   4.12651710e-03\n",
      "  -4.26378305e-04  -4.81335726e-03   3.21987225e-03  -4.08162829e-03]\n"
     ]
    }
   ],
   "source": [
    "# access vector for one word size = 100\n",
    "print(model['be'])"
   ]
  },
  {
   "cell_type": "code",
   "execution_count": 62,
   "metadata": {
    "_cell_guid": "c7efef25-b569-4bc8-9fa0-40d7bd8375eb",
    "_uuid": "7c13515b10b7ea5ac41612318bb0bc0c9bd7e577"
   },
   "outputs": [
    {
     "data": {
      "text/plain": [
       "'find'"
      ]
     },
     "execution_count": 62,
     "metadata": {},
     "output_type": "execute_result"
    }
   ],
   "source": [
    "model.wv.index2word[10]"
   ]
  },
  {
   "cell_type": "code",
   "execution_count": 61,
   "metadata": {
    "_cell_guid": "a454ea6d-3442-4280-820c-d6fe2d3dacf1",
    "_uuid": "ee370b3d98a8e38dc35b0f584dcf513e60a3026f"
   },
   "outputs": [
    {
     "data": {
      "image/png": "[encoded data removed]",
      "text/plain": [
       "<matplotlib.figure.Figure at 0x7f0caab65320>"
      ]
     },
     "metadata": {},
     "output_type": "display_data"
    }
   ],
   "source": [
    "from sklearn.decomposition import PCA\n",
    "from matplotlib import pyplot\n",
    "# fit a 2d PCA model to the vectors\n",
    "X = model[model.wv.vocab]\n",
    "pca = PCA(n_components=2)\n",
    "result = pca.fit_transform(X)\n",
    "# create a scatter plot of the projection\n",
    "pyplot.scatter(result[:, 0], result[:, 1])\n",
    "words = list(model.wv.vocab)\n",
    "for i, word in enumerate(words):\n",
    "    pyplot.annotate(word, xy=(result[i, 0], result[i, 1]))\n",
    "pyplot.show()"
   ]
  },
  {
   "cell_type": "markdown",
   "metadata": {
    "_cell_guid": "5601300e-5e87-4cf3-ab8f-8166e01fbf2b",
    "_uuid": "daad09ddaa99fa53e34cc212a9edf9ad15c01728",
    "collapsed": true
   },
   "source": [
    "**STEP4: RNN**"
   ]
  },
  {
   "cell_type": "markdown",
   "metadata": {
    "_cell_guid": "ac164a43-aa51-4e99-a0e4-c4a611397b1c",
    "_uuid": "7a34f2ef29da91657952c1144fe0aeb76a208090"
   },
   "source": [
    "* http://adventuresinmachinelearning.com/word2vec-tutorial-tensorflow/\n",
    "* https://www.tensorflow.org/tutorials/word2vec\n",
    "* https://spacy.io/usage/training#section-tips\n",
    "* http://karpathy.github.io/2015/05/21/rnn-effectiveness/\n",
    "* https://github.com/crazydonkey200/tensorflow-char-rnn"
   ]
  },
  {
   "cell_type": "code",
   "execution_count": null,
   "metadata": {
    "_cell_guid": "615c6372-ca9f-423e-9305-6cf30f0f0141",
    "_uuid": "9c5d7d104f9ec40850b16127d327afc68c6d7138",
    "collapsed": true
   },
   "outputs": [],
   "source": [
    "# For insertion into TensorFlow let's convert the wv word vectors into a numpy matrix\n",
    "vocabulary_size = len(model.wv.vocab)\n",
    "vector_dim = 100 #model size\n",
    "embedding_matrix = np.zeros((vocabulary_size, vector_dim))\n",
    "for i in range(vocabulary_size):\n",
    "    embedding_vector = model.wv[model.wv.index2word[i]]\n",
    "    if embedding_vector is not None:\n",
    "        embedding_matrix[i] = embedding_vector"
   ]
  },
  {
   "cell_type": "code",
   "execution_count": null,
   "metadata": {
    "_cell_guid": "25456da3-f830-45d8-94c2-cadb4f140542",
    "_uuid": "1dbe4cb85b8e4807933fb3ad1ea6925112013b6a",
    "collapsed": true
   },
   "outputs": [],
   "source": [
    "#embedding_matrix[0][0]"
   ]
  },
  {
   "cell_type": "markdown",
   "metadata": {
    "_cell_guid": "0aa112be-4a6b-4afa-8dcd-44197e459f19",
    "_uuid": "454bdb12ff866b12821da89073ab51f09d977d8e"
   },
   "source": [
    "To refresh memory or to be familiar with tensorflow see : http://adventuresinmachinelearning.com/python-tensorflow-tutorial/ "
   ]
  },
  {
   "cell_type": "code",
   "execution_count": null,
   "metadata": {
    "_cell_guid": "749faa3a-e297-4a08-8437-cdcdb81a43dc",
    "_uuid": "8a05056718ff2fab59f2e8a08ecc7a83028e2035",
    "collapsed": true
   },
   "outputs": [],
   "source": [
    "import tensorflow as tf \n",
    "#Using gensim Word2Vec embeddings in TensorFlow\n",
    "# embedding layer weights are frozen to avoid updating embeddings while training\n",
    "frozen_embeddings = tf.constant(embedding_matrix)\n",
    "embedding = tf.Variable(initial_value=frozen_embeddings, trainable=False)\n",
    "# trainable=False, otherwise the embedding layer would be trained with negative performance impacts. "
   ]
  },
  {
   "cell_type": "markdown",
   "metadata": {
    "_cell_guid": "8d9a775c-fa98-4017-a953-7594ccec11fa",
    "_uuid": "e7347f19b0edb00edcfcbd465e5c6d0731851ab4"
   },
   "source": [
    "**STARTING RNN MODEL**:\n",
    "* http://www.wildml.com/2015/09/recurrent-neural-networks-tutorial-part-1-introduction-to-rnns/\n",
    "* http://www.wildml.com/2015/09/recurrent-neural-networks-tutorial-part-2-implementing-a-language-model-rnn-with-python-numpy-and-theano/\n",
    "* http://www.wildml.com/2015/10/recurrent-neural-network-tutorial-part-4-implementing-a-grulstm-rnn-with-python-and-theano/"
   ]
  },
  {
   "cell_type": "code",
   "execution_count": null,
   "metadata": {
    "_cell_guid": "cd2b53b5-4fa8-4b5f-88ec-c34f013a9e1a",
    "_uuid": "343129b2fae21ca47abbcd5689455333d8a56a69",
    "collapsed": true
   },
   "outputs": [],
   "source": []
  }
 ],
 "metadata": {
  "kernelspec": {
   "display_name": "Python 3",
   "language": "python",
   "name": "python3"
  },
  "language_info": {
   "codemirror_mode": {
    "name": "ipython",
    "version": 3
   },
   "file_extension": ".py",
   "mimetype": "text/x-python",
   "name": "python",
   "nbconvert_exporter": "python",
   "pygments_lexer": "ipython3",
   "version": "3.6.2"
  }
 },
 "nbformat": 4,
 "nbformat_minor": 1
}
